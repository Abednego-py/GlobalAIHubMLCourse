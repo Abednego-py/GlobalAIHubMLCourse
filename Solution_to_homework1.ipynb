{
 "cells": [
  {
   "cell_type": "markdown",
   "metadata": {},
   "source": [
    "   # Solution to Homework 1"
   ]
  },
  {
   "cell_type": "markdown",
   "metadata": {},
   "source": [
    "1.\n",
    "Machine Learning is a branch of artificial intelligence where a machine learns from a large amount of dataset so that it could perform a variety of operations automatically without being programmed to do so."
   ]
  },
  {
   "cell_type": "markdown",
   "metadata": {},
   "source": [
    "2.\n",
    "i. For supervised Learning, the computer is presented with laballed data from which an algorithm is derived.This algorithm can then be used to predict future output data. \n",
    "Examples of supervised learning simple linear regression,multiple linear regression and logistic regression\n",
    "\n",
    "ii. For unsupervised learning, the data presented is unlablled leaving the computer with an option of finding structure or relationship from its input/data.\n",
    "Examples of unsupervised learning include k-means clustering, centriod-based clustering and Hierarchical clustering"
   ]
  },
  {
   "cell_type": "markdown",
   "metadata": {},
   "source": [
    "3.\n",
    "A dataset may be partitioned into three seperate groups including train, validation and test sets.\n",
    "\n",
    "The training set is used to fit the model. It usually consist of pairs of input and output data\n",
    "\n",
    "The fitted model is then used to predict the responses for the observations in a second dataset called the validation dataset. The validation dataset provides an unbiased evaluation of a model fit on the training data\n",
    "\n",
    "The test dataset is used to provide an unbiased evaluation of a final model fit on the training dataset\n",
    "\n",
    "It is important to seperate data into these sets so that the model that our machine implements to our use cases performs as expected. If our model is trained from one dataset, we cannot say for sure how it would perform when giving a completely new set of data."
   ]
  },
  {
   "cell_type": "markdown",
   "metadata": {},
   "source": [
    "4.\n",
    "The main preprocessing steps includes:\n",
    "\n",
    "i. checking for duplicates and removing them: duplicates are removed so as to not give that particular data object an advantage or bias, when running machine learning algorithms\n",
    "\n",
    "ii. checking for imbalanced data : We do not wish to give a class more instance than another so we check for imbalance in our dataset\n",
    "\n",
    "iii. filling or dropping null or unexpected expressions: Most times, data comes with some fields having null values. If these values are not replaced, our statistic would definitely not be generally represented\n",
    "\n",
    "iv. Checking for outliers : Outliers are unfriendly data points because they skew our data statistics like the mean. It is important we identify and then remove them\n",
    "\n",
    "v. Standardization and Normalization : This helps us to be able to compare amongst features\n",
    "\n",
    "vi. Feature extraction and feature encoding : Most times we do want to know which underlying feature or combination of features have effect on our output variable. We would also need to encode certain features so that they can be accepetd as inputs for our selected machine learning algorithm\n",
    "\n",
    "vii. Splitting our data into train, validation and test set: Before our model can be successfully deployed, it must be trained, validated and tested and hence our data must be divided into these three subgroups\n",
    "\n",
    "\n",
    "We need to prepare our data because the performance of our model depends heavily on how clean our data is.\n",
    "\n"
   ]
  },
  {
   "cell_type": "markdown",
   "metadata": {},
   "source": [
    "5.\n",
    "A continuous variable can take on an unlimited number of values between the lowest and highest points of measurement. A good example is the measurement of the height of a man\n",
    "\n",
    "A discrete variable can only take on a finite number of values.  All qualitative variables are discrete. For example the color of your hair\n"
   ]
  },
  {
   "cell_type": "markdown",
   "metadata": {},
   "source": [
    "6.\n",
    "The plot is a histogram drawn using the seaborn library \n",
    "\n",
    "The variable is categorical\n",
    "\n",
    "There are obviously outliers in the data. First things first, i would get rid of the outliers by checking for them and dropping them and then standardize the data"
   ]
  }
 ],
 "metadata": {
  "kernelspec": {
   "display_name": "Python 3",
   "language": "python",
   "name": "python3"
  },
  "language_info": {
   "codemirror_mode": {
    "name": "ipython",
    "version": 3
   },
   "file_extension": ".py",
   "mimetype": "text/x-python",
   "name": "python",
   "nbconvert_exporter": "python",
   "pygments_lexer": "ipython3",
   "version": "3.8.5"
  }
 },
 "nbformat": 4,
 "nbformat_minor": 4
}
